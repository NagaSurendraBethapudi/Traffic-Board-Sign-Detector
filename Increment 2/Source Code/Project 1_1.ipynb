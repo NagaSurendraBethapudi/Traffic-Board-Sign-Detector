{
 "cells": [
  {
   "cell_type": "markdown",
   "id": "digital-assembly",
   "metadata": {},
   "source": [
    "# Traffic board sign detector\n",
    "\n",
    "## Building a GUI which will detect the traffic board using deep learning\n",
    "\n",
    "In this project we will be build a deep learning model which will predict the traffic sign board into different categories.\n",
    "\n",
    "We followed the below steps for this project:\n",
    "1. Importing the libraries and data.\n",
    "2. Overlook into data.\n",
    "3. Building a CNN model and finding the accuracy.\n",
    "4. Accuracy and loss plots over train and test data\n",
    "5. Saving the model."
   ]
  },
  {
   "cell_type": "markdown",
   "id": "worst-corner",
   "metadata": {},
   "source": [
    "## Step 1 : Importing the libraries and data"
   ]
  },
  {
   "cell_type": "code",
   "execution_count": 1,
   "id": "absolute-award",
   "metadata": {},
   "outputs": [],
   "source": [
    "#Importing the libraries\n",
    "import numpy as np\n",
    "import pandas as pd\n",
    "import matplotlib.pyplot as plt\n",
    "import tensorflow as tf\n",
    "from PIL import Image\n",
    "import os\n",
    "from sklearn.model_selection import train_test_split\n",
    "from keras.utils import to_categorical\n",
    "from keras.models import Sequential\n",
    "from tensorflow.keras.layers import Conv2D, MaxPooling2D\n",
    "from keras.layers import Dense, Dropout, Flatten"
   ]
  },
  {
   "cell_type": "code",
   "execution_count": 2,
   "id": "warming-portrait",
   "metadata": {},
   "outputs": [
    {
     "data": {
      "text/plain": [
       "'C:\\\\Users\\\\suren\\\\Downloads\\\\Traffic signs'"
      ]
     },
     "execution_count": 2,
     "metadata": {},
     "output_type": "execute_result"
    }
   ],
   "source": [
    "#Changing the directory for getting the dataset\n",
    "os.getcwd()\n",
    "os.chdir('C:\\\\Users\\\\suren\\\\Downloads\\\\Traffic signs')\n",
    "os.getcwd()"
   ]
  },
  {
   "cell_type": "code",
   "execution_count": 3,
   "id": "novel-attendance",
   "metadata": {},
   "outputs": [],
   "source": [
    "#Loading the data\n",
    "Images_data = [] #Loading Images to Images_data List\n",
    "Images_labels = [] #Loading labels to Images_labels List\n",
    "classes = 43 #Classes\n",
    "\n",
    "for i in range(classes): #Looping all the classes \n",
    "    path = os.path.join('C:\\\\Users\\\\suren\\\\Downloads\\\\Project','Train',str(i))\n",
    "    images = os.listdir(path)\n",
    "    \n",
    "    for a in images:#Looping through all the images\n",
    "        image = Image.open(path + '\\\\' + a) \n",
    "        image = image.resize((32,32)) #Resizing the images\n",
    "        image = np.array(image)\n",
    "        Images_data.append(image) #Appending all the images to Images_data list\n",
    "        Images_labels.append(i) #Appending all the labels to Image_labels list\n",
    "\n",
    "Images_data = np.array(Images_data) #list to arrays\n",
    "Images_labels = np.array(Images_labels) #list to arrays"
   ]
  },
  {
   "cell_type": "markdown",
   "id": "terminal-slovakia",
   "metadata": {},
   "source": [
    "## Step 2 : Overlook into data"
   ]
  },
  {
   "cell_type": "code",
   "execution_count": 4,
   "id": "functional-underground",
   "metadata": {},
   "outputs": [
    {
     "name": "stdout",
     "output_type": "stream",
     "text": [
      "Size of Images :  (39209, 32, 32, 3)\n",
      "SIze of Labels :  (39209,)\n"
     ]
    }
   ],
   "source": [
    "#printing the size of data and labels\n",
    "print('Size of Images : ' ,Images_data.shape)\n",
    "print('SIze of Labels : ' ,Images_labels.shape)"
   ]
  },
  {
   "cell_type": "markdown",
   "id": "blond-fourth",
   "metadata": {},
   "source": [
    "(39209, 32, 32, 3 ) - tells us there are 39209 images and of size 32*32 pixels and last 3 indicates colored images."
   ]
  },
  {
   "cell_type": "code",
   "execution_count": 5,
   "id": "local-biotechnology",
   "metadata": {},
   "outputs": [
    {
     "data": {
      "image/png": "[encoded data removed]",
      "text/plain": [
       "<Figure size 432x288 with 1 Axes>"
      ]
     },
     "metadata": {
      "needs_background": "light"
     },
     "output_type": "display_data"
    }
   ],
   "source": [
    "#display the first image in the training data\n",
    "plt.imshow(Images_data[105,:,:],cmap='gray')\n",
    "plt.show()"
   ]
  },
  {
   "cell_type": "code",
   "execution_count": 6,
   "id": "interpreted-dragon",
   "metadata": {},
   "outputs": [],
   "source": [
    "#Splitting the data into train and test\n",
    "train_images,test_images,train_labels,test_labels = train_test_split(Images_data,Images_labels,test_size=0.2,random_state = 42)"
   ]
  },
  {
   "cell_type": "code",
   "execution_count": 7,
   "id": "raising-community",
   "metadata": {},
   "outputs": [
    {
     "name": "stdout",
     "output_type": "stream",
     "text": [
      "train_images size :  (31367, 32, 32, 3)\n",
      "train_labels size :  (31367,)\n",
      "test_images size :   (7842, 32, 32, 3)\n",
      "test_labels size :   (7842,)\n"
     ]
    }
   ],
   "source": [
    "#printing the size of train and test data\n",
    "print('train_images size : ' ,train_images.shape)\n",
    "print('train_labels size : ' ,train_labels.shape)\n",
    "print('test_images size :  ' ,test_images.shape)\n",
    "print('test_labels size :  ' ,test_labels.shape)"
   ]
  },
  {
   "cell_type": "code",
   "execution_count": 8,
   "id": "egyptian-ready",
   "metadata": {},
   "outputs": [],
   "source": [
    "#change the labels from integer to one-hot encoding\n",
    "train_labels = to_categorical(train_labels,43)\n",
    "test_labels = to_categorical(test_labels,43)"
   ]
  },
  {
   "cell_type": "markdown",
   "id": "declared-basin",
   "metadata": {},
   "source": [
    "## Step 3 : Building the model and finding the accuracy"
   ]
  },
  {
   "cell_type": "code",
   "execution_count": 10,
   "id": "expired-cambridge",
   "metadata": {},
   "outputs": [],
   "source": [
    "#Building the model\n",
    "model = Sequential()\n",
    "#hidden layer using activation relu\n",
    "model.add(Conv2D(filters=32, kernel_size=(5,5), activation='relu', input_shape=train_images.shape[1:]))\n",
    "model.add(MaxPooling2D(pool_size=(2, 2))) #Adding extra hidden layers\n",
    "model.add(Dropout(rate=0.25)) #Dropout frequency\n",
    "#Flattening the model\n",
    "model.add(Flatten())\n",
    "model.add(Dense(256, activation='relu')) #more layers\n",
    "model.add(Dropout(rate=0.5))\n",
    "model.add(Dense(43, activation='softmax')) #out layer"
   ]
  },
  {
   "cell_type": "code",
   "execution_count": 11,
   "id": "rural-robinson",
   "metadata": {
    "scrolled": false
   },
   "outputs": [
    {
     "name": "stdout",
     "output_type": "stream",
     "text": [
      "Epoch 1/5\n",
      "123/123 [==============================] - 11s 90ms/step - loss: 7.6071 - accuracy: 0.3674 - val_loss: 0.9950 - val_accuracy: 0.7394\n",
      "Epoch 2/5\n",
      "123/123 [==============================] - 11s 88ms/step - loss: 1.2157 - accuracy: 0.6929 - val_loss: 0.4634 - val_accuracy: 0.8790\n",
      "Epoch 3/5\n",
      "123/123 [==============================] - 11s 88ms/step - loss: 0.8279 - accuracy: 0.7975 - val_loss: 0.6577 - val_accuracy: 0.8244\n",
      "Epoch 4/5\n",
      "123/123 [==============================] - 11s 88ms/step - loss: 0.6847 - accuracy: 0.8438 - val_loss: 0.2356 - val_accuracy: 0.9429\n",
      "Epoch 5/5\n",
      "123/123 [==============================] - 11s 88ms/step - loss: 0.5522 - accuracy: 0.8731 - val_loss: 0.1837 - val_accuracy: 0.9588\n"
     ]
    }
   ],
   "source": [
    "#Compilation \n",
    "model.compile(optimizer='rmsprop', loss='categorical_crossentropy', metrics=['accuracy'])\n",
    "#Fitting or passing the data to the model\n",
    "history = model.fit(train_images, train_labels, batch_size=256, epochs=5, verbose=1,validation_data=(test_images, test_labels))"
   ]
  },
  {
   "cell_type": "code",
   "execution_count": 13,
   "id": "settled-converter",
   "metadata": {},
   "outputs": [
    {
     "name": "stdout",
     "output_type": "stream",
     "text": [
      "246/246 [==============================] - 1s 5ms/step - loss: 0.1837 - accuracy: 0.9588\n",
      "Evaluation result on Test Data : Loss = 0.18372522294521332, accuracy = 0.9588115215301514\n"
     ]
    }
   ],
   "source": [
    "#Evaluating the model\n",
    "[test_loss, test_acc] = model.evaluate(test_images, test_labels)\n",
    "print(\"Evaluation result on Test Data : Loss = {}, accuracy = {}\".format(test_loss, test_acc)) #Printing the accuracy"
   ]
  },
  {
   "cell_type": "markdown",
   "id": "cheap-district",
   "metadata": {},
   "source": [
    "#### Observations:\n",
    "1. Accuracy of the model = 95.8%\n",
    "2. Loss of the model = 18%\n",
    "\n",
    "Model is working good, however will add more hidden layers for better accuracy and less loss."
   ]
  },
  {
   "cell_type": "code",
   "execution_count": 14,
   "id": "human-courtesy",
   "metadata": {},
   "outputs": [],
   "source": [
    "#Adding more dense layers\n",
    "model = Sequential()\n",
    "#hidden layer using activation relu\n",
    "model.add(Conv2D(filters=32, kernel_size=(5,5), activation='relu', input_shape=train_images.shape[1:]))\n",
    "model.add(Conv2D(filters=32, kernel_size=(5,5), activation='relu')) #adding more layers\n",
    "model.add(MaxPooling2D(pool_size=(2, 2))) #adding more layers\n",
    "model.add(Dropout(rate=0.25))\n",
    "#Adding more Conv2D, Maxpooling, Dense layers\n",
    "model.add(Conv2D(filters=64, kernel_size=(3, 3), activation='relu')) #adding more layers\n",
    "model.add(Conv2D(filters=64, kernel_size=(3, 3), activation='relu')) #adding more layers\n",
    "model.add(MaxPooling2D(pool_size=(2, 2))) #adding more layers\n",
    "model.add(Dropout(rate=0.25))\n",
    "#Flattening the model\n",
    "model.add(Flatten())\n",
    "model.add(Dense(256, activation='relu')) #adding more layers\n",
    "model.add(Dropout(rate=0.5))\n",
    "model.add(Dense(43, activation='softmax')) #out layer"
   ]
  },
  {
   "cell_type": "code",
   "execution_count": 15,
   "id": "subject-grounds",
   "metadata": {},
   "outputs": [
    {
     "name": "stdout",
     "output_type": "stream",
     "text": [
      "Epoch 1/5\n",
      "123/123 [==============================] - 42s 338ms/step - loss: 3.4409 - accuracy: 0.3198 - val_loss: 0.8909 - val_accuracy: 0.8017\n",
      "Epoch 2/5\n",
      "123/123 [==============================] - 42s 338ms/step - loss: 0.8440 - accuracy: 0.7730 - val_loss: 0.1911 - val_accuracy: 0.9570\n",
      "Epoch 3/5\n",
      "123/123 [==============================] - 42s 345ms/step - loss: 0.3785 - accuracy: 0.8992 - val_loss: 0.0989 - val_accuracy: 0.9774\n",
      "Epoch 4/5\n",
      "123/123 [==============================] - 43s 347ms/step - loss: 0.2468 - accuracy: 0.9387 - val_loss: 0.0941 - val_accuracy: 0.9787\n",
      "Epoch 5/5\n",
      "123/123 [==============================] - 44s 359ms/step - loss: 0.1968 - accuracy: 0.9502 - val_loss: 0.0485 - val_accuracy: 0.9892\n"
     ]
    }
   ],
   "source": [
    "#Compilation \n",
    "model.compile(optimizer='rmsprop', loss='categorical_crossentropy', metrics=['accuracy'])\n",
    "#Fitting or passing the data to the model\n",
    "history = model.fit(train_images, train_labels, batch_size=256, epochs=5, verbose=1,validation_data=(test_images, test_labels))"
   ]
  },
  {
   "cell_type": "code",
   "execution_count": 16,
   "id": "infinite-journalism",
   "metadata": {},
   "outputs": [
    {
     "name": "stdout",
     "output_type": "stream",
     "text": [
      "246/246 [==============================] - 3s 10ms/step - loss: 0.0485 - accuracy: 0.9892\n",
      "Evaluation result on Test Data : Loss = 0.04851296916604042, accuracy = 0.98916095495224\n"
     ]
    }
   ],
   "source": [
    "#Evaluating the model\n",
    "[test_loss, test_acc] = model.evaluate(test_images, test_labels)\n",
    "print(\"Evaluation result on Test Data : Loss = {}, accuracy = {}\".format(test_loss, test_acc)) #Printing the accuracy"
   ]
  },
  {
   "cell_type": "markdown",
   "id": "affected-characteristic",
   "metadata": {},
   "source": [
    "#### Observations:\n",
    "1. Accuracy of the model = 98.9%\n",
    "2. Loss of the model = 4%\n",
    "\n",
    "Model performed very well, since accuracy was increased"
   ]
  },
  {
   "cell_type": "code",
   "execution_count": 17,
   "id": "hungarian-banner",
   "metadata": {},
   "outputs": [
    {
     "name": "stdout",
     "output_type": "stream",
     "text": [
      "dict_keys(['loss', 'accuracy', 'val_loss', 'val_accuracy'])\n"
     ]
    }
   ],
   "source": [
    "#Listing all the data in history (Call Backs)\n",
    "print(history.history.keys())"
   ]
  },
  {
   "cell_type": "markdown",
   "id": "specified-generation",
   "metadata": {},
   "source": [
    "## Step 4 : Accuracy and loss plots over train and test data"
   ]
  },
  {
   "cell_type": "code",
   "execution_count": 18,
   "id": "dressed-accordance",
   "metadata": {},
   "outputs": [
    {
     "data": {
      "image/png": "[encoded data removed]",
      "text/plain": [
       "<Figure size 432x288 with 1 Axes>"
      ]
     },
     "metadata": {
      "needs_background": "light"
     },
     "output_type": "display_data"
    }
   ],
   "source": [
    "# Plotting the Accuracy for both training data and validation data using the history object.\n",
    "plt.plot(history.history['accuracy'])\n",
    "plt.plot(history.history['val_accuracy'])\n",
    "plt.legend(['train', 'test'], loc='lower right')\n",
    "plt.title('Accuracy data comparison')\n",
    "plt.ylabel('Accuracy')\n",
    "plt.xlabel('epoch')\n",
    "plt.show()"
   ]
  },
  {
   "cell_type": "markdown",
   "id": "abstract-round",
   "metadata": {},
   "source": [
    "#### Observations:\n",
    "Accuracy of the model is around 99%"
   ]
  },
  {
   "cell_type": "code",
   "execution_count": 19,
   "id": "centered-prisoner",
   "metadata": {},
   "outputs": [
    {
     "data": {
      "image/png": "[encoded data removed]",
      "text/plain": [
       "<Figure size 432x288 with 1 Axes>"
      ]
     },
     "metadata": {
      "needs_background": "light"
     },
     "output_type": "display_data"
    }
   ],
   "source": [
    "# Plotting the loss for both training data and validation data using the history object.\n",
    "plt.plot(history.history['loss'])\n",
    "plt.plot(history.history['val_loss'])\n",
    "plt.title('Loss data comparison')\n",
    "plt.legend(['train', 'test'], loc='upper right')\n",
    "plt.xlabel('epoch')\n",
    "plt.ylabel('Loss')\n",
    "plt.show()"
   ]
  },
  {
   "cell_type": "markdown",
   "id": "posted-stationery",
   "metadata": {},
   "source": [
    "#### Observations:\n",
    "Loss of the data is less than 5% after adding more hidden layers"
   ]
  },
  {
   "cell_type": "markdown",
   "id": "touched-pakistan",
   "metadata": {},
   "source": [
    "## Step 5 : Saving the model"
   ]
  },
  {
   "cell_type": "code",
   "execution_count": 20,
   "id": "secondary-greensboro",
   "metadata": {},
   "outputs": [
    {
     "name": "stdout",
     "output_type": "stream",
     "text": [
      "Model: \"sequential_1\"\n",
      "_________________________________________________________________\n",
      "Layer (type)                 Output Shape              Param #   \n",
      "=================================================================\n",
      "conv2d_1 (Conv2D)            (None, 28, 28, 32)        2432      \n",
      "_________________________________________________________________\n",
      "conv2d_2 (Conv2D)            (None, 24, 24, 32)        25632     \n",
      "_________________________________________________________________\n",
      "max_pooling2d_1 (MaxPooling2 (None, 12, 12, 32)        0         \n",
      "_________________________________________________________________\n",
      "dropout_2 (Dropout)          (None, 12, 12, 32)        0         \n",
      "_________________________________________________________________\n",
      "conv2d_3 (Conv2D)            (None, 10, 10, 64)        18496     \n",
      "_________________________________________________________________\n",
      "conv2d_4 (Conv2D)            (None, 8, 8, 64)          36928     \n",
      "_________________________________________________________________\n",
      "max_pooling2d_2 (MaxPooling2 (None, 4, 4, 64)          0         \n",
      "_________________________________________________________________\n",
      "dropout_3 (Dropout)          (None, 4, 4, 64)          0         \n",
      "_________________________________________________________________\n",
      "flatten_1 (Flatten)          (None, 1024)              0         \n",
      "_________________________________________________________________\n",
      "dense_2 (Dense)              (None, 256)               262400    \n",
      "_________________________________________________________________\n",
      "dropout_4 (Dropout)          (None, 256)               0         \n",
      "_________________________________________________________________\n",
      "dense_3 (Dense)              (None, 43)                11051     \n",
      "=================================================================\n",
      "Total params: 356,939\n",
      "Trainable params: 356,939\n",
      "Non-trainable params: 0\n",
      "_________________________________________________________________\n",
      "None\n"
     ]
    }
   ],
   "source": [
    "model.save('traffic_sign_board_detector.h5')\n",
    "print(model.summary()) #summary of the model"
   ]
  },
  {
   "cell_type": "markdown",
   "id": "royal-examination",
   "metadata": {},
   "source": [
    "### Building a GUI by using above sequential model"
   ]
  },
  {
   "cell_type": "code",
   "execution_count": 21,
   "id": "automatic-white",
   "metadata": {},
   "outputs": [],
   "source": [
    "#Importing the libraries for building GUI\n",
    "import tkinter as tk\n",
    "from tkinter import *\n",
    "from PIL import ImageTk, Image\n",
    "from keras.models import load_model"
   ]
  },
  {
   "cell_type": "code",
   "execution_count": 23,
   "id": "fatal-delivery",
   "metadata": {},
   "outputs": [],
   "source": [
    "#Reloading the model\n",
    "model = load_model('traffic_sign_board_detector.h5')"
   ]
  },
  {
   "cell_type": "code",
   "execution_count": 24,
   "id": "lonely-breakfast",
   "metadata": {},
   "outputs": [],
   "source": [
    "#By using the CSV file done labelling for all traffic signs\n",
    "classes = { 1:'Speed limit (20km/h)',\n",
    "            2:'Speed limit (30km/h)', \n",
    "            3:'Speed limit (50km/h)', \n",
    "            4:'Speed limit (60km/h)', \n",
    "            5:'Speed limit (70km/h)', \n",
    "            6:'Speed limit (80km/h)', \n",
    "            7:'End of speed limit (80km/h)', \n",
    "            8:'Speed limit (100km/h)', \n",
    "            9:'Speed limit (120km/h)', \n",
    "            10:'No passing', \n",
    "            11:'No passing vehicle > 3.5 tons', \n",
    "            12:'Right-of-way at intersection', \n",
    "            13:'Priority road', \n",
    "            14:'Yield', \n",
    "            15:'Stop', \n",
    "            16:'No vehicles', \n",
    "            17:'Veh > 3.5 tons prohibited', \n",
    "            18:'No entry', \n",
    "            19:'General caution', \n",
    "            20:'Dangerous curve left', \n",
    "            21:'Dangerous curve right', \n",
    "            22:'Double curve', \n",
    "            23:'Bumpy road', \n",
    "            24:'Slippery road', \n",
    "            25:'Road narrows on the right', \n",
    "            26:'Road work', \n",
    "            27:'Traffic signals', \n",
    "            28:'Pedestrians', \n",
    "            29:'Children crossing', \n",
    "            30:'Bicycles crossing', \n",
    "            31:'Beware of ice/snow',\n",
    "            32:'Wild animals crossing', \n",
    "            33:'End speed + passing limits', \n",
    "            34:'Turn right ahead', \n",
    "            35:'Turn left ahead', \n",
    "            36:'Ahead only', \n",
    "            37:'Go straight or right', \n",
    "            38:'Go straight or left', \n",
    "            39:'Keep right', \n",
    "            40:'Keep left', \n",
    "            41:'Roundabout mandatory', \n",
    "            42:'End of no passing', \n",
    "            43:'End no passing veh > 3.5 tons' }"
   ]
  },
  {
   "cell_type": "markdown",
   "id": "modern-chance",
   "metadata": {},
   "source": [
    "### Creating tkinter\n",
    "1. Design\n",
    "2. Prediction function\n",
    "3. Display prediction\n",
    "4. Upload an Image"
   ]
  },
  {
   "cell_type": "markdown",
   "id": "protected-property",
   "metadata": {},
   "source": [
    "#### 1. Design"
   ]
  },
  {
   "cell_type": "code",
   "execution_count": 25,
   "id": "tropical-lambda",
   "metadata": {},
   "outputs": [],
   "source": [
    "#https://realpython.com/python-gui-tkinter/\n",
    "\n",
    "window=tk.Tk()\n",
    "window.geometry('800x600')\n",
    "window.title('Traffic sign board detector')\n",
    "window.configure(background='#466df0')\n",
    "label=Label(window,background='#466df0', font=('arial',15,'bold'))\n",
    "sign_image = Label(window)"
   ]
  },
  {
   "cell_type": "markdown",
   "id": "obvious-carter",
   "metadata": {},
   "source": [
    "#### 2. Prediction function"
   ]
  },
  {
   "cell_type": "code",
   "execution_count": 26,
   "id": "optical-acoustic",
   "metadata": {},
   "outputs": [],
   "source": [
    "#prediction_function : By using this function we can pass the uploaded image to model and model will predict the image.\n",
    "\n",
    "def prediction(file_path):\n",
    "    global label_packed\n",
    "    sign_board = Image.open(file_path) #Opening the random image from test data\n",
    "    sign_board = sign_board.resize((30,30)) #Reshaping the size of image\n",
    "    sign_board = numpy.expand_dims(sign_board, axis=0) #Expanding the dimensions\n",
    "    sign_board = numpy.array(sign_board)\n",
    "    pred = model.predict_classes([sign_board])[0] #Predecting the traffic sign using the model built above\n",
    "    sign = classes[pred+1]\n",
    "    print(sign) #Printing the traffic sign what model has predected\n",
    "    label.configure(foreground='yellow', text=sign) #adding some color configuration  \n",
    " "
   ]
  },
  {
   "cell_type": "markdown",
   "id": "perfect-interstate",
   "metadata": {},
   "source": [
    "#### 3. Display prediction"
   ]
  },
  {
   "cell_type": "code",
   "execution_count": 27,
   "id": "responsible-proportion",
   "metadata": {},
   "outputs": [],
   "source": [
    "#display_prediction : By using this function we will display the prediction button after uploding the image\n",
    "\n",
    "def display_prediction(file_path):\n",
    "    classification=Button(window,text=\"Predict\", command=lambda: prediction(file_path),padx=10,pady=5) #predicting the imag\n",
    "    classification.configure(background='#466df0',foreground='yellow',font=('arial',10,'bold'))\n",
    "    classification.place(relx=0.79,rely=0.46)\n"
   ]
  },
  {
   "cell_type": "markdown",
   "id": "acknowledged-cholesterol",
   "metadata": {},
   "source": [
    "#### 4. Upload Button"
   ]
  },
  {
   "cell_type": "code",
   "execution_count": 28,
   "id": "loaded-construction",
   "metadata": {},
   "outputs": [],
   "source": [
    "#Upload_Button : By using this function will request for uploading an image\n",
    "\n",
    "def upload_sign_board():\n",
    "    try:\n",
    "        file_path=filedialog.askopenfilename()   #Opening the file location where images are stored\n",
    "        uploaded=Image.open(file_path)\n",
    "        uploaded.thumbnail(((window.winfo_width()/2.25),(window.winfo_height()/2.25)))\n",
    "        uploaded=uploaded.resize((180,180))    #Resizing the images which are uploaded\n",
    "        ima=ImageTk.PhotoImage(uploaded)\n",
    "        sign_image.configure(image=ima)\n",
    "        sign_image.image=ima\n",
    "        label.configure(text='')\n",
    "        display_prediction(file_path)     #Displaying the prediction\n",
    "    except:\n",
    "        pass"
   ]
  },
  {
   "cell_type": "code",
   "execution_count": 29,
   "id": "wireless-africa",
   "metadata": {},
   "outputs": [],
   "source": [
    "#Uplolading the image and classifying the type of image\n",
    "upload=Button(window,text=\"Upload an image\",command=upload_sign_board,padx=10,pady=5)  #Button configuration\n",
    "upload.configure(background='#466df0', foreground='yellow',font=('calibri',10,'bold')) \n",
    "upload.pack(side=BOTTOM,pady=50)\n",
    "sign_image.pack(side=BOTTOM,expand=True) #Button location\n",
    "label.pack(side=BOTTOM,expand=True)\n",
    "heading = Label(window, text=\"Predict the traffic sign\",pady=20, font=('calibri',20,'bold'))\n",
    "heading.configure(background='#466df0', foreground='white')\n",
    "heading.pack()\n",
    "window.mainloop()\n"
   ]
  },
  {
   "cell_type": "markdown",
   "id": "generous-guitar",
   "metadata": {},
   "source": [
    "## Conclusion :\n",
    "\n",
    "#### 1. By using this model we got an accuracy around 99% and we are predicting the image which are uploaded.\n",
    "#### 2. We will work on remaining part where video will be processed as input and model will be applied to that."
   ]
  },
  {
   "cell_type": "code",
   "execution_count": null,
   "id": "animated-chick",
   "metadata": {},
   "outputs": [],
   "source": []
  }
 ],
 "metadata": {
  "kernelspec": {
   "display_name": "Python 3",
   "language": "python",
   "name": "python3"
  },
  "language_info": {
   "codemirror_mode": {
    "name": "ipython",
    "version": 3
   },
   "file_extension": ".py",
   "mimetype": "text/x-python",
   "name": "python",
   "nbconvert_exporter": "python",
   "pygments_lexer": "ipython3",
   "version": "3.8.8"
  }
 },
 "nbformat": 4,
 "nbformat_minor": 5
}
